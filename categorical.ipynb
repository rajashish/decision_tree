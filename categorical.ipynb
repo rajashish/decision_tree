{
 "cells": [
  {
   "cell_type": "markdown",
   "metadata": {},
   "source": [
    "# PART 1"
   ]
  },
  {
   "cell_type": "markdown",
   "metadata": {},
   "source": [
    "\n",
    "Categorically\n",
    "i have considered 'Work_accident','promotion_last_5years','sales','salary' as categorical attribute.\n",
    "Functions are called in above sections .so run all the cells 2 times to run the code"
   ]
  },
  {
   "cell_type": "code",
   "execution_count": null,
   "metadata": {},
   "outputs": [],
   "source": [
    "# data reading and splitting them into test and train data randomly\n",
    "\n",
    "\n",
    "import numpy as np\n",
    "import pandas as pd\n",
    "import random\n",
    "import math\n",
    "data = pd.read_csv('decision_Tree/train.csv', delimiter = ',' )\n",
    "# data = pd.read_csv('decision_Tree/sample_test.csv', delimiter = ',' )\n",
    "\n",
    "data_read= data[['satisfaction_level','last_evaluation','number_project','average_montly_hours','time_spend_company','Work_accident','promotion_last_5years','sales','salary','left']]\n",
    "header = ['satisfaction_level','last_evaluation','number_project','average_montly_hours','time_spend_company','Work_accident','promotion_last_5years','sales','salary','left']\n",
    "header1 = ['Work_accident','promotion_last_5years','sales','salary','left']\n",
    "sample_data = data_read[['Work_accident' ,'promotion_last_5years','sales','salary','left']].head(10)\n",
    "data_random=data_read.apply(np.random.permutation)\n",
    "train_data = data_random.head(8737)\n",
    "test_data = data_random.tail(2500)\n",
    "\n",
    "trw = Tree()\n",
    "\n",
    "\n",
    "\n",
    "# d=test_data.values[:,0]\n",
    "\n",
    "\n",
    "\n",
    "\n",
    "\n",
    "\n"
   ]
  },
  {
   "cell_type": "code",
   "execution_count": 3,
   "metadata": {},
   "outputs": [],
   "source": [
    "\n",
    "##categorical data decision tree\n",
    "test_data1 = test_data[['Work_accident' ,'promotion_last_5years','sales','salary','left' ]]\n",
    "train_data1 = train_data[['Work_accident' ,'promotion_last_5years','sales','salary','left']]\n",
    "\n",
    "# sample = ['sales','IT']\n",
    "# a = []\n",
    "# a.append(train_data1[train_data1[head1[2]] == sample[0]])\n",
    "# a.append(train_data1[train_data1[head1[2]] == sample[1]])\n",
    "# a[0]\n",
    "\n",
    "\n",
    "\n",
    "\n",
    "\n",
    "\n",
    "\n"
   ]
  },
  {
   "cell_type": "code",
   "execution_count": 4,
   "metadata": {},
   "outputs": [],
   "source": [
    "def split(dataset,idx):\n",
    "    groups = []\n",
    "    uniq = list(unique_val(dataset,idx))\n",
    "    \n",
    "    for i in range(len(uniq)):\n",
    "        groups.append(dataset[dataset[header1[idx]]==uniq[i]])\n",
    "    \n",
    "    return groups\n",
    "\n"
   ]
  },
  {
   "cell_type": "code",
   "execution_count": 5,
   "metadata": {},
   "outputs": [],
   "source": [
    "def unique_val(dataset,col):\n",
    "    return list(set([data[col] for data in dataset.values]))\n",
    "# a=list(unique_val(train_data,0))\n",
    "# s = len(train_data)\n",
    "# s\n",
    "# train_data\n",
    "\n",
    "\n",
    "\n"
   ]
  },
  {
   "cell_type": "code",
   "execution_count": 19,
   "metadata": {
    "scrolled": true
   },
   "outputs": [
    {
     "data": {
      "text/plain": [
       "2"
      ]
     },
     "execution_count": 19,
     "metadata": {},
     "output_type": "execute_result"
    }
   ],
   "source": [
    "def best_split(dataset):\n",
    "    sz = len(dataset.values[0])-1\n",
    "    best = -1\n",
    "    info = -1\n",
    "    \n",
    "    size = len(dataset)\n",
    "    total_count = dataset.left.sum()\n",
    "    for i in range(sz-1):\n",
    "        avg=0\n",
    "        ent=0\n",
    "        t=list(dataset.groupby(header1[i]).left.sum())\n",
    "        t1=list(dataset.groupby(header1[i]).size())\n",
    "        sz_t = len(t)\n",
    "        for j in range(sz_t):\n",
    "            avg = avg+ (t1[j]/size)*entropy(t[j],t1[j])\n",
    "        ent = entropy(total_count,size)\n",
    "        \n",
    "        info_gain = ent - avg\n",
    "        if(info_gain>info):\n",
    "            info = info_gain\n",
    "            if(len(unique_val(dataset,i))>1):\n",
    "                best = i\n",
    "    return best\n",
    "\n",
    "    \n",
    "        \n",
    "    \n",
    "    \n",
    "    \n",
    "    \n",
    "    \n",
    "   \n",
    "\n"
   ]
  },
  {
   "cell_type": "code",
   "execution_count": 7,
   "metadata": {},
   "outputs": [],
   "source": [
    "def entropy(count ,size):\n",
    "    if(count==size or count == 0):\n",
    "        return  0\n",
    "    y = count/size \n",
    "    n = 1-y \n",
    "    ent = -n*math.log(n) - y*math.log(y)\n",
    "    return ent\n",
    "\n",
    "    \n"
   ]
  },
  {
   "cell_type": "code",
   "execution_count": 8,
   "metadata": {},
   "outputs": [],
   "source": [
    "# class Node:\n",
    "   \n",
    "#     def __init__(self,\n",
    "#                  true_branch,\n",
    "#                  false_branch):\n",
    "#         self.true_branch = true_branch\n",
    "#         self.false_branch = false_branch\n",
    "    \n",
    "class Tree(object):\n",
    "    def __init__(self):\n",
    "        self.name = None\n",
    "        self.child = []\n",
    "        self.data = []\n",
    "        self.value = -1\n",
    " \n",
    "    def createChildren(self,amount):\n",
    "        for i in range(0,amount):\n",
    "            self.child.append(Tree())\n",
    " \n",
    "    def setChildrenValues(self,list):\n",
    "        for i in range(0,len(list)):\n",
    "            self.data.append(list[i])\n",
    "    def setVal(self,val):\n",
    "        self.value = val\n",
    "    def setName(self,nam):\n",
    "        self.name = nam\n",
    "        "
   ]
  },
  {
   "cell_type": "code",
   "execution_count": 9,
   "metadata": {},
   "outputs": [],
   "source": [
    "def terminal_node(dataset):\n",
    "    t = dataset.left.sum()\n",
    "    t1 = len(dataset)\n",
    "    if(t >= t1-t):\n",
    "        return 1\n",
    "    return 0\n",
    "\n",
    "        "
   ]
  },
  {
   "cell_type": "code",
   "execution_count": 10,
   "metadata": {},
   "outputs": [],
   "source": [
    "def build_tree(dataset,max_depth,depth,tr):\n",
    "    if(depth==max_depth):\n",
    "        tr.setVal(terminal_node(dataset))\n",
    "        return\n",
    "        \n",
    "        \n",
    "    if( dataset.left.sum() == len(dataset) or  dataset.left.sum() == 0):\n",
    "        tr.setVal(terminal_node(dataset))\n",
    "        return\n",
    "    \n",
    "    a = best_split(dataset)\n",
    "    if(a == -1):\n",
    "        tr.setVal(terminal_node(dataset))\n",
    "        return\n",
    "    \n",
    "    \n",
    "    \n",
    "    parts = unique_val(dataset,a)\n",
    "    uniq_len = len(parts)\n",
    "    tr.createChildren(uniq_len)\n",
    "    tr.setChildrenValues(parts)\n",
    "    tr.setName(a)\n",
    "\n",
    "    grp = split(dataset,a)\n",
    "    for i in range(uniq_len):\n",
    "        build_tree(grp[i],max_depth,depth+1,tr.child[i])\n",
    "    del(grp)\n",
    "    return\n",
    "        \n",
    "        \n",
    "        \n",
    "\n",
    "\n",
    "    \n",
    "    \n",
    "        \n",
    "        \n",
    "    \n",
    "    \n",
    "    \n",
    "    \n",
    "    \n",
    "    \n"
   ]
  },
  {
   "cell_type": "code",
   "execution_count": 11,
   "metadata": {},
   "outputs": [],
   "source": [
    "def check(dataset,mytree):\n",
    "    while (mytree.value==-1):\n",
    "#         print('name')\n",
    "#         print(mytree.name)\n",
    "        l = len(mytree.data)\n",
    "#         print('length')\n",
    "#         print(l)\n",
    "        for i in range(l):\n",
    "#             print('mytree data i ')\n",
    "#             print(mytree.data[i])\n",
    "#             print('mytree name')\n",
    "#             print(dataset[mytree.name])\n",
    "            if(dataset[mytree.name]==mytree.data[i]):\n",
    "#                 print('mytree.data[i]')\n",
    "#                 print(mytree.data[i])\n",
    "                mytree = mytree.child[i]\n",
    "                break\n",
    "#                 print('i ')\n",
    "#                 print(i)\n",
    "               \n",
    "                \n",
    "    \n",
    "    return mytree.value\n",
    "            \n",
    "            \n",
    "            \n",
    "        \n",
    "        \n",
    "        "
   ]
  },
  {
   "cell_type": "code",
   "execution_count": 12,
   "metadata": {},
   "outputs": [],
   "source": [
    "##RECALL\n",
    "\n",
    "def recall(predicted_output,actual_output):\n",
    "    tp=sum(actual_output)\n",
    "    fn=0.0\n",
    "    l = len(predicted_output)\n",
    "    for i in range(l):\n",
    "        if(actual_output[i]==1 and predicted_output[i]==0):\n",
    "            fn=fn+1\n",
    "    return tp/(tp+fn)"
   ]
  },
  {
   "cell_type": "code",
   "execution_count": 13,
   "metadata": {},
   "outputs": [],
   "source": [
    "## PRECISION\n",
    "\n",
    "def precision(predicted_output,actual_output):\n",
    "    tp=sum(actual_output)\n",
    "    fp=0.0\n",
    "    l = len(predicted_output)\n",
    "    for i in range(l):\n",
    "        if(actual_output[i]==0 and predicted_output[i]==1):\n",
    "            fp=fp+1\n",
    "    return tp/(tp+fp)\n",
    "    \n",
    "    "
   ]
  },
  {
   "cell_type": "code",
   "execution_count": 14,
   "metadata": {},
   "outputs": [],
   "source": [
    "def f1_score(predicted_output,actual_output):\n",
    "    tp=sum(actual_output)\n",
    "    l = len(predicted_output)\n",
    "    fp=0.0\n",
    "    fn=0.0\n",
    "    for i in range(l):\n",
    "        if(actual_output[i]==1 and predicted_output[i]==0):\n",
    "            fn=fn+1\n",
    "    \n",
    "    for i in range(l):\n",
    "        if(actual_output[i]==0 and predicted_output[i]==1):\n",
    "            fp=fp+1\n",
    "    return 2*tp/(2*tp+fp+fn)\n",
    "    \n",
    "    "
   ]
  },
  {
   "cell_type": "code",
   "execution_count": 15,
   "metadata": {},
   "outputs": [],
   "source": [
    "## Accuracy\n",
    "\n",
    "def accuracy(predicted_output,actual_output):\n",
    "    l = len(predicted_output)\n",
    "    out=0\n",
    "    for i in range(l):\n",
    "        if(predicted_output[i]==actual_output[i]):\n",
    "            out=out+1\n",
    "    return out/l\n",
    "            \n",
    "    \n",
    "    "
   ]
  },
  {
   "cell_type": "code",
   "execution_count": 20,
   "metadata": {},
   "outputs": [],
   "source": [
    "\n",
    "def evaluate(dataset,mytree):\n",
    "#     check_data = dataset[['satisfaction_level','last_evaluation','number_project','average_montly_hours','time_spend_company','Work_accident','promotion_last_5years','sales','salary','left']]\n",
    "    check_data = dataset[['Work_accident' ,'promotion_last_5years','sales','salary','left']]\n",
    "    length = len(check_data)\n",
    "    len_val = len(check_data.values[0])\n",
    "    predicted_outcome = []\n",
    "    actual_outcome = []\n",
    "    matched_output = []\n",
    "    for i in range(length):\n",
    "        c=check(check_data.values[i],mytree)\n",
    "        predicted_outcome.append(c)\n",
    "        actual_outcome.append(check_data.values[i][len_val-1])\n",
    "        if(c==check_data.values[i][len_val-1]):\n",
    "            matched_output.append(1)\n",
    "        else:\n",
    "            matched_output.append(0)\n",
    "    print('Accuracy is')\n",
    "    print(sum(matched_output)/len(matched_output))\n",
    "    \n",
    "    return predicted_outcome,actual_outcome\n",
    "            \n",
    "        \n",
    "\n",
    "\n",
    "\n",
    "\n",
    "build_tree(train_data1,7,0,trw)\n",
    "# evaluate(train_data1,trw)\n",
    "\n",
    "\n",
    "\n",
    "    \n"
   ]
  },
  {
   "cell_type": "code",
   "execution_count": null,
   "metadata": {},
   "outputs": [],
   "source": []
  },
  {
   "cell_type": "code",
   "execution_count": 22,
   "metadata": {},
   "outputs": [
    {
     "name": "stdout",
     "output_type": "stream",
     "text": [
      "Accuracy is\n",
      "0.76\n",
      "Accuracy : 0.76\n",
      "F1 Score : 0.6662958843159066\n",
      "Recall : 0.5\n",
      "Precision : 0.9983333333333333\n"
     ]
    }
   ],
   "source": [
    "test_data1 = test_data1[['Work_accident' ,'promotion_last_5years','sales','salary','left' ]]\n",
    "predicted_out,actual_out = evaluate(test_data1,trw)\n",
    "print('Accuracy :',accuracy(predicted_out,actual_out))\n",
    "print('F1 Score :',f1_score(predicted_out,actual_out))\n",
    "print('Recall :',recall(predicted_out,actual_out))\n",
    "print('Precision :',precision(predicted_out,actual_out))\n",
    "    \n",
    "    "
   ]
  },
  {
   "cell_type": "code",
   "execution_count": null,
   "metadata": {},
   "outputs": [],
   "source": [
    "def test(dataset,mytree):\n",
    "#     check_data = dataset[['satisfaction_level','last_evaluation','number_project','average_montly_hours','time_spend_company','Work_accident','promotion_last_5years','sales','salary','left']]\n",
    "    check_data = dataset[['Work_accident' ,'promotion_last_5years','sales','salary']]\n",
    "    length = len(check_data)\n",
    "    len_val = len(check_data.values[0])\n",
    "    predicted_outcome = []\n",
    "   \n",
    "    for i in range(length):\n",
    "        c=check(check_data.values[i],mytree)\n",
    "        predicted_outcome.append(c)\n",
    "    \n",
    "    return predicted_outcome\n",
    "            "
   ]
  },
  {
   "cell_type": "code",
   "execution_count": null,
   "metadata": {},
   "outputs": [],
   "source": [
    "## To test the dataset uncomment below lines\n",
    "\n",
    "# test = pd.read_csv('filename', delimiter = ',' )\n",
    "# a = testing(dataset,trw)\n",
    "# a"
   ]
  },
  {
   "cell_type": "code",
   "execution_count": null,
   "metadata": {},
   "outputs": [],
   "source": []
  },
  {
   "cell_type": "code",
   "execution_count": null,
   "metadata": {},
   "outputs": [],
   "source": []
  },
  {
   "cell_type": "code",
   "execution_count": null,
   "metadata": {},
   "outputs": [],
   "source": []
  },
  {
   "cell_type": "code",
   "execution_count": null,
   "metadata": {},
   "outputs": [],
   "source": []
  },
  {
   "cell_type": "code",
   "execution_count": null,
   "metadata": {},
   "outputs": [],
   "source": []
  },
  {
   "cell_type": "code",
   "execution_count": null,
   "metadata": {},
   "outputs": [],
   "source": []
  },
  {
   "cell_type": "code",
   "execution_count": null,
   "metadata": {},
   "outputs": [],
   "source": []
  },
  {
   "cell_type": "code",
   "execution_count": null,
   "metadata": {},
   "outputs": [],
   "source": []
  },
  {
   "cell_type": "code",
   "execution_count": null,
   "metadata": {},
   "outputs": [],
   "source": []
  },
  {
   "cell_type": "code",
   "execution_count": null,
   "metadata": {},
   "outputs": [],
   "source": []
  },
  {
   "cell_type": "code",
   "execution_count": null,
   "metadata": {},
   "outputs": [],
   "source": []
  },
  {
   "cell_type": "code",
   "execution_count": null,
   "metadata": {},
   "outputs": [],
   "source": []
  },
  {
   "cell_type": "code",
   "execution_count": null,
   "metadata": {},
   "outputs": [],
   "source": []
  },
  {
   "cell_type": "code",
   "execution_count": null,
   "metadata": {},
   "outputs": [],
   "source": []
  },
  {
   "cell_type": "code",
   "execution_count": null,
   "metadata": {},
   "outputs": [],
   "source": []
  },
  {
   "cell_type": "code",
   "execution_count": null,
   "metadata": {},
   "outputs": [],
   "source": []
  },
  {
   "cell_type": "code",
   "execution_count": null,
   "metadata": {},
   "outputs": [],
   "source": []
  },
  {
   "cell_type": "code",
   "execution_count": null,
   "metadata": {},
   "outputs": [],
   "source": []
  },
  {
   "cell_type": "code",
   "execution_count": null,
   "metadata": {},
   "outputs": [],
   "source": []
  },
  {
   "cell_type": "code",
   "execution_count": null,
   "metadata": {},
   "outputs": [],
   "source": []
  },
  {
   "cell_type": "code",
   "execution_count": null,
   "metadata": {},
   "outputs": [],
   "source": []
  },
  {
   "cell_type": "code",
   "execution_count": null,
   "metadata": {},
   "outputs": [],
   "source": []
  },
  {
   "cell_type": "code",
   "execution_count": null,
   "metadata": {},
   "outputs": [],
   "source": []
  },
  {
   "cell_type": "code",
   "execution_count": null,
   "metadata": {},
   "outputs": [],
   "source": []
  },
  {
   "cell_type": "code",
   "execution_count": null,
   "metadata": {},
   "outputs": [],
   "source": []
  },
  {
   "cell_type": "code",
   "execution_count": null,
   "metadata": {},
   "outputs": [],
   "source": []
  }
 ],
 "metadata": {
  "kernelspec": {
   "display_name": "Python 3",
   "language": "python",
   "name": "python3"
  },
  "language_info": {
   "codemirror_mode": {
    "name": "ipython",
    "version": 3
   },
   "file_extension": ".py",
   "mimetype": "text/x-python",
   "name": "python",
   "nbconvert_exporter": "python",
   "pygments_lexer": "ipython3",
   "version": "3.6.7"
  }
 },
 "nbformat": 4,
 "nbformat_minor": 2
}
