{
 "cells": [
  {
   "cell_type": "markdown",
   "metadata": {},
   "source": [
    "Some funcions are used above the section it actually defined.So run all the sectons 2 times to run the actual code"
   ]
  },
  {
   "cell_type": "code",
   "execution_count": 20,
   "metadata": {
    "scrolled": true
   },
   "outputs": [
    {
     "ename": "FileNotFoundError",
     "evalue": "File b'decision_Tree/train.csv' does not exist",
     "output_type": "error",
     "traceback": [
      "\u001b[0;31m---------------------------------------------------------------------------\u001b[0m",
      "\u001b[0;31mFileNotFoundError\u001b[0m                         Traceback (most recent call last)",
      "\u001b[0;32m<ipython-input-20-005ab92c9b3d>\u001b[0m in \u001b[0;36m<module>\u001b[0;34m()\u001b[0m\n\u001b[1;32m      7\u001b[0m \u001b[0;32mimport\u001b[0m \u001b[0mmath\u001b[0m\u001b[0;34m\u001b[0m\u001b[0;34m\u001b[0m\u001b[0m\n\u001b[1;32m      8\u001b[0m \u001b[0;32mimport\u001b[0m \u001b[0mmatplotlib\u001b[0m\u001b[0;34m.\u001b[0m\u001b[0mpyplot\u001b[0m \u001b[0;32mas\u001b[0m \u001b[0mplt\u001b[0m\u001b[0;34m\u001b[0m\u001b[0;34m\u001b[0m\u001b[0m\n\u001b[0;32m----> 9\u001b[0;31m \u001b[0mdata\u001b[0m \u001b[0;34m=\u001b[0m \u001b[0mpd\u001b[0m\u001b[0;34m.\u001b[0m\u001b[0mread_csv\u001b[0m\u001b[0;34m(\u001b[0m\u001b[0;34m'decision_Tree/train.csv'\u001b[0m\u001b[0;34m,\u001b[0m \u001b[0mdelimiter\u001b[0m \u001b[0;34m=\u001b[0m \u001b[0;34m','\u001b[0m \u001b[0;34m)\u001b[0m\u001b[0;34m\u001b[0m\u001b[0;34m\u001b[0m\u001b[0m\n\u001b[0m\u001b[1;32m     10\u001b[0m \u001b[0;31m# data = pd.read_csv('decision_Tree/sample_test.csv', delimiter = ',' )\u001b[0m\u001b[0;34m\u001b[0m\u001b[0;34m\u001b[0m\u001b[0;34m\u001b[0m\u001b[0m\n\u001b[1;32m     11\u001b[0m \u001b[0;34m\u001b[0m\u001b[0m\n",
      "\u001b[0;32m/usr/local/lib/python3.6/dist-packages/pandas/io/parsers.py\u001b[0m in \u001b[0;36mparser_f\u001b[0;34m(filepath_or_buffer, sep, delimiter, header, names, index_col, usecols, squeeze, prefix, mangle_dupe_cols, dtype, engine, converters, true_values, false_values, skipinitialspace, skiprows, nrows, na_values, keep_default_na, na_filter, verbose, skip_blank_lines, parse_dates, infer_datetime_format, keep_date_col, date_parser, dayfirst, iterator, chunksize, compression, thousands, decimal, lineterminator, quotechar, quoting, escapechar, comment, encoding, dialect, tupleize_cols, error_bad_lines, warn_bad_lines, skipfooter, doublequote, delim_whitespace, low_memory, memory_map, float_precision)\u001b[0m\n\u001b[1;32m    676\u001b[0m                     skip_blank_lines=skip_blank_lines)\n\u001b[1;32m    677\u001b[0m \u001b[0;34m\u001b[0m\u001b[0m\n\u001b[0;32m--> 678\u001b[0;31m         \u001b[0;32mreturn\u001b[0m \u001b[0m_read\u001b[0m\u001b[0;34m(\u001b[0m\u001b[0mfilepath_or_buffer\u001b[0m\u001b[0;34m,\u001b[0m \u001b[0mkwds\u001b[0m\u001b[0;34m)\u001b[0m\u001b[0;34m\u001b[0m\u001b[0;34m\u001b[0m\u001b[0m\n\u001b[0m\u001b[1;32m    679\u001b[0m \u001b[0;34m\u001b[0m\u001b[0m\n\u001b[1;32m    680\u001b[0m     \u001b[0mparser_f\u001b[0m\u001b[0;34m.\u001b[0m\u001b[0m__name__\u001b[0m \u001b[0;34m=\u001b[0m \u001b[0mname\u001b[0m\u001b[0;34m\u001b[0m\u001b[0;34m\u001b[0m\u001b[0m\n",
      "\u001b[0;32m/usr/local/lib/python3.6/dist-packages/pandas/io/parsers.py\u001b[0m in \u001b[0;36m_read\u001b[0;34m(filepath_or_buffer, kwds)\u001b[0m\n\u001b[1;32m    438\u001b[0m \u001b[0;34m\u001b[0m\u001b[0m\n\u001b[1;32m    439\u001b[0m     \u001b[0;31m# Create the parser.\u001b[0m\u001b[0;34m\u001b[0m\u001b[0;34m\u001b[0m\u001b[0;34m\u001b[0m\u001b[0m\n\u001b[0;32m--> 440\u001b[0;31m     \u001b[0mparser\u001b[0m \u001b[0;34m=\u001b[0m \u001b[0mTextFileReader\u001b[0m\u001b[0;34m(\u001b[0m\u001b[0mfilepath_or_buffer\u001b[0m\u001b[0;34m,\u001b[0m \u001b[0;34m**\u001b[0m\u001b[0mkwds\u001b[0m\u001b[0;34m)\u001b[0m\u001b[0;34m\u001b[0m\u001b[0;34m\u001b[0m\u001b[0m\n\u001b[0m\u001b[1;32m    441\u001b[0m \u001b[0;34m\u001b[0m\u001b[0m\n\u001b[1;32m    442\u001b[0m     \u001b[0;32mif\u001b[0m \u001b[0mchunksize\u001b[0m \u001b[0;32mor\u001b[0m \u001b[0miterator\u001b[0m\u001b[0;34m:\u001b[0m\u001b[0;34m\u001b[0m\u001b[0;34m\u001b[0m\u001b[0m\n",
      "\u001b[0;32m/usr/local/lib/python3.6/dist-packages/pandas/io/parsers.py\u001b[0m in \u001b[0;36m__init__\u001b[0;34m(self, f, engine, **kwds)\u001b[0m\n\u001b[1;32m    785\u001b[0m             \u001b[0mself\u001b[0m\u001b[0;34m.\u001b[0m\u001b[0moptions\u001b[0m\u001b[0;34m[\u001b[0m\u001b[0;34m'has_index_names'\u001b[0m\u001b[0;34m]\u001b[0m \u001b[0;34m=\u001b[0m \u001b[0mkwds\u001b[0m\u001b[0;34m[\u001b[0m\u001b[0;34m'has_index_names'\u001b[0m\u001b[0;34m]\u001b[0m\u001b[0;34m\u001b[0m\u001b[0;34m\u001b[0m\u001b[0m\n\u001b[1;32m    786\u001b[0m \u001b[0;34m\u001b[0m\u001b[0m\n\u001b[0;32m--> 787\u001b[0;31m         \u001b[0mself\u001b[0m\u001b[0;34m.\u001b[0m\u001b[0m_make_engine\u001b[0m\u001b[0;34m(\u001b[0m\u001b[0mself\u001b[0m\u001b[0;34m.\u001b[0m\u001b[0mengine\u001b[0m\u001b[0;34m)\u001b[0m\u001b[0;34m\u001b[0m\u001b[0;34m\u001b[0m\u001b[0m\n\u001b[0m\u001b[1;32m    788\u001b[0m \u001b[0;34m\u001b[0m\u001b[0m\n\u001b[1;32m    789\u001b[0m     \u001b[0;32mdef\u001b[0m \u001b[0mclose\u001b[0m\u001b[0;34m(\u001b[0m\u001b[0mself\u001b[0m\u001b[0;34m)\u001b[0m\u001b[0;34m:\u001b[0m\u001b[0;34m\u001b[0m\u001b[0;34m\u001b[0m\u001b[0m\n",
      "\u001b[0;32m/usr/local/lib/python3.6/dist-packages/pandas/io/parsers.py\u001b[0m in \u001b[0;36m_make_engine\u001b[0;34m(self, engine)\u001b[0m\n\u001b[1;32m   1012\u001b[0m     \u001b[0;32mdef\u001b[0m \u001b[0m_make_engine\u001b[0m\u001b[0;34m(\u001b[0m\u001b[0mself\u001b[0m\u001b[0;34m,\u001b[0m \u001b[0mengine\u001b[0m\u001b[0;34m=\u001b[0m\u001b[0;34m'c'\u001b[0m\u001b[0;34m)\u001b[0m\u001b[0;34m:\u001b[0m\u001b[0;34m\u001b[0m\u001b[0;34m\u001b[0m\u001b[0m\n\u001b[1;32m   1013\u001b[0m         \u001b[0;32mif\u001b[0m \u001b[0mengine\u001b[0m \u001b[0;34m==\u001b[0m \u001b[0;34m'c'\u001b[0m\u001b[0;34m:\u001b[0m\u001b[0;34m\u001b[0m\u001b[0;34m\u001b[0m\u001b[0m\n\u001b[0;32m-> 1014\u001b[0;31m             \u001b[0mself\u001b[0m\u001b[0;34m.\u001b[0m\u001b[0m_engine\u001b[0m \u001b[0;34m=\u001b[0m \u001b[0mCParserWrapper\u001b[0m\u001b[0;34m(\u001b[0m\u001b[0mself\u001b[0m\u001b[0;34m.\u001b[0m\u001b[0mf\u001b[0m\u001b[0;34m,\u001b[0m \u001b[0;34m**\u001b[0m\u001b[0mself\u001b[0m\u001b[0;34m.\u001b[0m\u001b[0moptions\u001b[0m\u001b[0;34m)\u001b[0m\u001b[0;34m\u001b[0m\u001b[0;34m\u001b[0m\u001b[0m\n\u001b[0m\u001b[1;32m   1015\u001b[0m         \u001b[0;32melse\u001b[0m\u001b[0;34m:\u001b[0m\u001b[0;34m\u001b[0m\u001b[0;34m\u001b[0m\u001b[0m\n\u001b[1;32m   1016\u001b[0m             \u001b[0;32mif\u001b[0m \u001b[0mengine\u001b[0m \u001b[0;34m==\u001b[0m \u001b[0;34m'python'\u001b[0m\u001b[0;34m:\u001b[0m\u001b[0;34m\u001b[0m\u001b[0;34m\u001b[0m\u001b[0m\n",
      "\u001b[0;32m/usr/local/lib/python3.6/dist-packages/pandas/io/parsers.py\u001b[0m in \u001b[0;36m__init__\u001b[0;34m(self, src, **kwds)\u001b[0m\n\u001b[1;32m   1706\u001b[0m         \u001b[0mkwds\u001b[0m\u001b[0;34m[\u001b[0m\u001b[0;34m'usecols'\u001b[0m\u001b[0;34m]\u001b[0m \u001b[0;34m=\u001b[0m \u001b[0mself\u001b[0m\u001b[0;34m.\u001b[0m\u001b[0musecols\u001b[0m\u001b[0;34m\u001b[0m\u001b[0;34m\u001b[0m\u001b[0m\n\u001b[1;32m   1707\u001b[0m \u001b[0;34m\u001b[0m\u001b[0m\n\u001b[0;32m-> 1708\u001b[0;31m         \u001b[0mself\u001b[0m\u001b[0;34m.\u001b[0m\u001b[0m_reader\u001b[0m \u001b[0;34m=\u001b[0m \u001b[0mparsers\u001b[0m\u001b[0;34m.\u001b[0m\u001b[0mTextReader\u001b[0m\u001b[0;34m(\u001b[0m\u001b[0msrc\u001b[0m\u001b[0;34m,\u001b[0m \u001b[0;34m**\u001b[0m\u001b[0mkwds\u001b[0m\u001b[0;34m)\u001b[0m\u001b[0;34m\u001b[0m\u001b[0;34m\u001b[0m\u001b[0m\n\u001b[0m\u001b[1;32m   1709\u001b[0m \u001b[0;34m\u001b[0m\u001b[0m\n\u001b[1;32m   1710\u001b[0m         \u001b[0mpassed_names\u001b[0m \u001b[0;34m=\u001b[0m \u001b[0mself\u001b[0m\u001b[0;34m.\u001b[0m\u001b[0mnames\u001b[0m \u001b[0;32mis\u001b[0m \u001b[0;32mNone\u001b[0m\u001b[0;34m\u001b[0m\u001b[0;34m\u001b[0m\u001b[0m\n",
      "\u001b[0;32mpandas/_libs/parsers.pyx\u001b[0m in \u001b[0;36mpandas._libs.parsers.TextReader.__cinit__\u001b[0;34m()\u001b[0m\n",
      "\u001b[0;32mpandas/_libs/parsers.pyx\u001b[0m in \u001b[0;36mpandas._libs.parsers.TextReader._setup_parser_source\u001b[0;34m()\u001b[0m\n",
      "\u001b[0;31mFileNotFoundError\u001b[0m: File b'decision_Tree/train.csv' does not exist"
     ]
    }
   ],
   "source": [
    "# data reading and splitting them into test and train data randomly\n",
    "\n",
    "\n",
    "import numpy as np\n",
    "import pandas as pd\n",
    "import random\n",
    "import math\n",
    "import matplotlib.pyplot as plt\n",
    "data = pd.read_csv('decision_Tree/train.csv', delimiter = ',' )\n",
    "# data = pd.read_csv('decision_Tree/sample_test.csv', delimiter = ',' )\n",
    "\n",
    "data_read= data[['satisfaction_level','last_evaluation','number_project','average_montly_hours','time_spend_company','Work_accident','promotion_last_5years','sales','salary','left']]\n",
    "header = ['satisfaction_level','last_evaluation','number_project','average_montly_hours','time_spend_company','Work_accident','promotion_last_5years','sales','salary','left']\n",
    "header1 = ['Work_accident','promotion_last_5years','sales','salary','left']\n",
    "sample_data = data_read[['Work_accident' ,'promotion_last_5years','sales','salary','left']].head(10)\n",
    "# data_random=data_read.apply(np.random.permutation)\n",
    "data_random=data_read\n",
    "train_data = data_random.head(8737)\n",
    "test_data = data_random.tail(2500)\n",
    "is_numeric=[1,1,1,1,1,0,0,0,0]\n",
    "# for i in range(len(data_read.values[0])-1):\n",
    "#     if(len(unique_val(data_read,i))>10):\n",
    "#         is_numeric.append(1)\n",
    "#     else:\n",
    "#         is_numeric.append(0)\n",
    "\n",
    "most_prob=0\n",
    "if(data_read.left.sum()>len(data_read)/2):\n",
    "    most_prob=1\n",
    "\n",
    "trw = Tree()\n",
    "\n",
    "# l = sample_data\n",
    "# l[l[header1[4]]>0.5]\n",
    "\n",
    "\n",
    "\n",
    "# d=test_data.values[:,0]\n",
    "\n",
    "\n",
    "\n",
    "\n"
   ]
  },
  {
   "cell_type": "code",
   "execution_count": null,
   "metadata": {},
   "outputs": [],
   "source": [
    "\n",
    "##categorical data decision tree\n",
    "test_data1 = test_data[['Work_accident' ,'promotion_last_5years','sales','salary','left' ]]\n",
    "train_data1 = train_data[['Work_accident' ,'promotion_last_5years','sales','salary','left']]\n",
    "\n",
    "# sample = ['sales','IT']\n",
    "# a = []\n",
    "# a.append(train_data1[train_data1[head1[2]] == sample[0]])\n",
    "# a.append(train_data1[train_data1[head1[2]] == sample[1]])\n",
    "# a[0]\n",
    "\n",
    "\n",
    "\n",
    "\n",
    "\n",
    "\n",
    "\n"
   ]
  },
  {
   "cell_type": "code",
   "execution_count": 2,
   "metadata": {},
   "outputs": [],
   "source": [
    "def split(dataset,idx):\n",
    "    groups = []\n",
    "    uniq = list(unique_val(dataset,idx))\n",
    "    \n",
    "    for i in range(len(uniq)):\n",
    "        groups.append(dataset[dataset[header[idx]]==uniq[i]])\n",
    "    \n",
    "    return groups\n",
    "\n"
   ]
  },
  {
   "cell_type": "code",
   "execution_count": 3,
   "metadata": {},
   "outputs": [],
   "source": [
    "def split_num(dataset,idx,val):\n",
    "    groups = []\n",
    "    a = dataset[dataset[header[idx]]<=val]\n",
    "    b = dataset[dataset[header[idx]]>val]\n",
    "    groups.append(a)\n",
    "    groups.append(b)\n",
    "    del(a)\n",
    "    del(b)\n",
    "    return groups\n",
    "\n",
    "    "
   ]
  },
  {
   "cell_type": "code",
   "execution_count": 4,
   "metadata": {},
   "outputs": [],
   "source": [
    "#to fin the best value to split on numerical data\n",
    "def best_cut_num(dataset,idx):\n",
    "    lt = unique_val(dataset,idx)\n",
    "    length = len(lt)\n",
    "#     if(length>50):\n",
    "#         random.shuffle(lt)\n",
    "#         length = 50\n",
    "    split_grp=[]\n",
    "    \n",
    "    total_count=dataset.left.sum()\n",
    "    size = len(dataset)\n",
    "    ent = entropy(total_count,size)\n",
    "    avg=0\n",
    "    final_avg=0\n",
    "    info = 0\n",
    "    best_cut = 0\n",
    "    \n",
    "    for i in range(length):\n",
    "        avg=0\n",
    "        t=split_num(dataset,idx,lt[i])\n",
    "        for j in range(len(t)):\n",
    "            sz = len(t[j])\n",
    "            ct = t[j].left.sum()\n",
    "            avg = avg+ (sz/size)*entropy(ct,sz)\n",
    "            \n",
    "        if((ent-avg)>info):\n",
    "            info = ent-avg\n",
    "            best_cut = lt[i]\n",
    "            final_avg=avg\n",
    "            \n",
    "    return best_cut,final_avg\n",
    "            \n",
    " \n",
    "        \n",
    "    \n",
    "    "
   ]
  },
  {
   "cell_type": "code",
   "execution_count": 5,
   "metadata": {},
   "outputs": [],
   "source": [
    "def unique_val(dataset,col):\n",
    "    return list(set([data[col] for data in dataset.values]))\n",
    "\n",
    "\n",
    "\n"
   ]
  },
  {
   "cell_type": "code",
   "execution_count": 6,
   "metadata": {
    "scrolled": true
   },
   "outputs": [],
   "source": [
    "def best_split(dataset):\n",
    "    sz = len(dataset.values[0])-1\n",
    "    best = -1\n",
    "    info = -1\n",
    "    \n",
    "    size = len(dataset)\n",
    "    total_count = dataset.left.sum()\n",
    "    for i in range(sz):\n",
    "        avg=0\n",
    "        ent=0\n",
    "        if(is_numeric[i] == 0):\n",
    "            t=list(dataset.groupby(header[i]).left.sum())\n",
    "            t1=list(dataset.groupby(header[i]).size())\n",
    "            sz_t = len(t)\n",
    "            for j in range(sz_t):\n",
    "                avg = avg+ (t1[j]/size)*entropy(t[j],t1[j])\n",
    "        else:\n",
    "            best_cut,avg = best_cut_num(dataset,i)\n",
    "            \n",
    "        ent = entropy(total_count,size)\n",
    "        \n",
    "        info_gain = ent - avg\n",
    "#         print( i)\n",
    "#         print('info',info_gain)\n",
    "\n",
    "        if(info_gain>info):\n",
    "            info = info_gain\n",
    "            \n",
    "            best = i\n",
    "    return best\n",
    "\n",
    "\n",
    "        \n",
    "    \n",
    "    \n",
    "    \n",
    "    \n",
    "    \n",
    "   \n",
    "\n"
   ]
  },
  {
   "cell_type": "code",
   "execution_count": 7,
   "metadata": {},
   "outputs": [],
   "source": [
    "def entropy(count ,size):\n",
    "    if(count==size or count == 0):\n",
    "        return  0\n",
    "    y = count/size \n",
    "    n = 1-y \n",
    "    ent = -n*math.log(n) - y*math.log(y)\n",
    "    return ent\n",
    "\n",
    "    \n"
   ]
  },
  {
   "cell_type": "code",
   "execution_count": 8,
   "metadata": {},
   "outputs": [],
   "source": [
    "# class Node:\n",
    "   \n",
    "#     def __init__(self,\n",
    "#                  true_branch,\n",
    "#                  false_branch):\n",
    "#         self.true_branch = true_branch\n",
    "#         self.false_branch = false_branch\n",
    "    \n",
    "class Tree(object):\n",
    "    def __init__(self):\n",
    "        self.name = None\n",
    "        self.child = []\n",
    "        self.data = []\n",
    "        self.value = -1\n",
    " \n",
    "    def createChildren(self,amount):\n",
    "        for i in range(0,amount):\n",
    "            self.child.append(Tree())\n",
    " \n",
    "    def setChildrenValues(self,list):\n",
    "        for i in range(0,len(list)):\n",
    "            self.data.append(list[i])\n",
    "    def setVal(self,val):\n",
    "        self.value = val\n",
    "    def setName(self,nam):\n",
    "        self.name = nam\n",
    "        "
   ]
  },
  {
   "cell_type": "code",
   "execution_count": 9,
   "metadata": {},
   "outputs": [],
   "source": [
    "def terminal_node(dataset):\n",
    "    t = dataset.left.sum()\n",
    "    t1 = len(dataset)\n",
    "    if(t >= t1-t):\n",
    "        return 1\n",
    "    return 0\n",
    "\n",
    "        "
   ]
  },
  {
   "cell_type": "markdown",
   "metadata": {},
   "source": [
    "BUILDING TREE "
   ]
  },
  {
   "cell_type": "code",
   "execution_count": 10,
   "metadata": {},
   "outputs": [
    {
     "ename": "NameError",
     "evalue": "name 'train_data' is not defined",
     "output_type": "error",
     "traceback": [
      "\u001b[0;31m---------------------------------------------------------------------------\u001b[0m",
      "\u001b[0;31mNameError\u001b[0m                                 Traceback (most recent call last)",
      "\u001b[0;32m<ipython-input-10-0445ecdff83b>\u001b[0m in \u001b[0;36m<module>\u001b[0;34m()\u001b[0m\n\u001b[1;32m     59\u001b[0m \u001b[0;34m\u001b[0m\u001b[0m\n\u001b[1;32m     60\u001b[0m \u001b[0mt\u001b[0m \u001b[0;34m=\u001b[0m \u001b[0mTree\u001b[0m\u001b[0;34m(\u001b[0m\u001b[0;34m)\u001b[0m\u001b[0;34m\u001b[0m\u001b[0;34m\u001b[0m\u001b[0m\n\u001b[0;32m---> 61\u001b[0;31m \u001b[0mtr_data\u001b[0m \u001b[0;34m=\u001b[0m \u001b[0mtrain_data\u001b[0m\u001b[0;34m.\u001b[0m\u001b[0msample\u001b[0m\u001b[0;34m(\u001b[0m\u001b[0;36m1500\u001b[0m\u001b[0;34m)\u001b[0m\u001b[0;34m\u001b[0m\u001b[0;34m\u001b[0m\u001b[0m\n\u001b[0m\u001b[1;32m     62\u001b[0m \u001b[0mtrw\u001b[0m\u001b[0;34m=\u001b[0m\u001b[0mbuild_tree\u001b[0m\u001b[0;34m(\u001b[0m\u001b[0mdata_read\u001b[0m\u001b[0;34m,\u001b[0m\u001b[0;36m3\u001b[0m\u001b[0;34m,\u001b[0m\u001b[0;36m0\u001b[0m\u001b[0;34m,\u001b[0m\u001b[0mt\u001b[0m\u001b[0;34m)\u001b[0m\u001b[0;34m\u001b[0m\u001b[0;34m\u001b[0m\u001b[0m\n\u001b[1;32m     63\u001b[0m \u001b[0mtrw\u001b[0m\u001b[0;34m.\u001b[0m\u001b[0mchild\u001b[0m\u001b[0;34m[\u001b[0m\u001b[0;36m0\u001b[0m\u001b[0;34m]\u001b[0m\u001b[0;34m.\u001b[0m\u001b[0mname\u001b[0m\u001b[0;34m\u001b[0m\u001b[0;34m\u001b[0m\u001b[0m\n",
      "\u001b[0;31mNameError\u001b[0m: name 'train_data' is not defined"
     ]
    }
   ],
   "source": [
    "##builds tree\n",
    "\n",
    "def build_tree(dataset,max_depth,depth,tr):\n",
    "    if(depth==max_depth):\n",
    "        tr.setVal(terminal_node(dataset))\n",
    "        return tr\n",
    "        \n",
    "        \n",
    "    if( dataset.left.sum() == len(dataset) or  dataset.left.sum() == 0):\n",
    "        tr.setVal(terminal_node(dataset))\n",
    "        return tr\n",
    "    \n",
    "    a = best_split(dataset)\n",
    "    if(len(unique_val(dataset,a))==1):\n",
    "        tr.setVal(terminal_node(dataset))\n",
    "        return tr\n",
    "        \n",
    "    \n",
    "    if(a == -1):\n",
    "        tr.setVal(terminal_node(dataset))\n",
    "        return tr\n",
    "    \n",
    "#     if(is_numeric[a]==1 and len(unique_val(dataset,a))<2):\n",
    "#         tr.setVal(terminal_node(dataset))\n",
    "#         return tr\n",
    "    if(len(dataset)<3):\n",
    "        tr.setVal(terminal_node(dataset))\n",
    "        return tr\n",
    "        \n",
    "    \n",
    "    \n",
    "    if(is_numeric[a]==0):\n",
    "        parts = unique_val(dataset,a)\n",
    "        uniq_len = len(parts)\n",
    "        tr.createChildren(uniq_len)\n",
    "        tr.setChildrenValues(parts)\n",
    "        \n",
    "    if(is_numeric[a]==1):\n",
    "        best_n,avg =  best_cut_num(dataset,a)\n",
    "        parts=[best_n,10000]\n",
    "        uniq_len = 2\n",
    "        tr.createChildren(uniq_len)\n",
    "        tr.setChildrenValues(parts)\n",
    "    tr.setName(a)\n",
    "\n",
    "    if(is_numeric[a]==0):\n",
    "        grp = split(dataset,a)\n",
    "    else:\n",
    "        best_cut,avg = best_cut_num(dataset,a)\n",
    "        grp = split_num(dataset,a,best_cut)\n",
    "        \n",
    "\n",
    "    for i in range(uniq_len):\n",
    "        build_tree(grp[i],max_depth,depth+1,tr.child[i])\n",
    "    del(grp)\n",
    "    return tr\n",
    "        \n",
    "        \n",
    "        \n",
    "t = Tree()\n",
    "tr_data = train_data.sample(1500)\n",
    "trw=build_tree(data_read,3,0,t)\n",
    "trw.child[0].name\n",
    "    \n",
    "    \n",
    "        \n",
    "        \n",
    "    \n",
    "    \n",
    "    \n",
    "    \n",
    "    \n",
    "    \n"
   ]
  },
  {
   "cell_type": "code",
   "execution_count": 11,
   "metadata": {},
   "outputs": [],
   "source": [
    "## predicts outcome for a single row\n",
    "\n",
    "def check(dataset,mytree):\n",
    "#     print(len(mytree.child))\n",
    "    if(len(mytree.child)==0):\n",
    "#         print('done',mytree.value)\n",
    "        \n",
    "        return mytree.value\n",
    "    \n",
    "    l = len(mytree.child)\n",
    "        \n",
    "    for i in range(l):\n",
    "        if(is_numeric[mytree.name]==1):\n",
    "#                 print('mytree num')\n",
    "#                 print(mytree.name)\n",
    "#                 print('num')\n",
    "            if(dataset[mytree.name] < mytree.data[0]):\n",
    "                return check(dataset,mytree.child[0])\n",
    "#                     print('num1 child name')\n",
    "#                     print(mytree.name)\n",
    "                \n",
    "            else:\n",
    "                return check(dataset,mytree.child[1])\n",
    "#                     print('num2 child name')\n",
    "#                     print(mytree.name)\n",
    "                \n",
    "        else:\n",
    "#                 print('mytree cat')\n",
    "#                 print(mytree.name)\n",
    "            if(dataset[mytree.name]==mytree.data[i]):\n",
    "                return check(dataset,mytree.child[i])\n",
    "#                     print('category child name')\n",
    "#                     print(mytree.name)\n",
    "                \n",
    "    \n",
    "    "
   ]
  },
  {
   "cell_type": "markdown",
   "metadata": {},
   "source": [
    "   below 4 functions takes list of predicted outcome and list of actual outcome and gives recall,accuracy,precision and f1 score"
   ]
  },
  {
   "cell_type": "code",
   "execution_count": 12,
   "metadata": {},
   "outputs": [],
   "source": [
    "##RECALL\n",
    "\n",
    "def recall(predicted_output,actual_output):\n",
    "    tp=sum(actual_output)\n",
    "    fn=0.0\n",
    "    l = len(predicted_output)\n",
    "    for i in range(l):\n",
    "        if(actual_output[i]==1 and predicted_output[i]==0):\n",
    "            fn=fn+1\n",
    "    return tp/(tp+fn)"
   ]
  },
  {
   "cell_type": "code",
   "execution_count": 13,
   "metadata": {},
   "outputs": [],
   "source": [
    "## PRECISION\n",
    "\n",
    "def precision(predicted_output,actual_output):\n",
    "    tp=sum(actual_output)\n",
    "    fp=0.0\n",
    "    l = len(predicted_output)\n",
    "    for i in range(l):\n",
    "        if(actual_output[i]==0 and predicted_output[i]==1):\n",
    "            fp=fp+1\n",
    "    return tp/(tp+fp)\n",
    "    \n",
    "    "
   ]
  },
  {
   "cell_type": "code",
   "execution_count": 14,
   "metadata": {},
   "outputs": [],
   "source": [
    "##F1 SCORE\n",
    "\n",
    "def f1_score(predicted_output,actual_output):\n",
    "    tp=sum(actual_output)\n",
    "    l = len(predicted_output)\n",
    "    fp=0.0\n",
    "    fn=0.0\n",
    "    for i in range(l):\n",
    "        if(actual_output[i]==1 and predicted_output[i]==0):\n",
    "            fn=fn+1\n",
    "    \n",
    "    for i in range(l):\n",
    "        if(actual_output[i]==0 and predicted_output[i]==1):\n",
    "            fp=fp+1\n",
    "    return 2*tp/(2*tp+fp+fn)\n",
    "    \n",
    "    "
   ]
  },
  {
   "cell_type": "code",
   "execution_count": 15,
   "metadata": {},
   "outputs": [],
   "source": [
    "## Accuracy\n",
    "\n",
    "def accuracy(predicted_output,actual_output):\n",
    "    l = len(predicted_output)\n",
    "    out=0\n",
    "    for i in range(l):\n",
    "        if(predicted_output[i]==actual_output[i]):\n",
    "            out=out+1\n",
    "    return out/l\n",
    "            \n",
    "    \n",
    "    "
   ]
  },
  {
   "cell_type": "markdown",
   "metadata": {},
   "source": [
    "this function evaluates the dataset and returns the list of predicted outcomes and list of actual outcomes"
   ]
  },
  {
   "cell_type": "code",
   "execution_count": 16,
   "metadata": {
    "scrolled": false
   },
   "outputs": [],
   "source": [
    "##PREDICT THE OUTCOME FOR DATASET\n",
    "\n",
    "\n",
    "def evaluate(dataset,mytree):\n",
    "    check_data = dataset[['satisfaction_level','last_evaluation','number_project','average_montly_hours','time_spend_company','Work_accident','promotion_last_5years','sales','salary','left']]\n",
    "    #check_data = dataset[['Work_accident' ,'promotion_last_5years','sales','salary','left']]\n",
    "    length = len(check_data)\n",
    "    len_val = len(check_data.values[0])\n",
    "    predicted_outcome = []\n",
    "    actual_outcome = []\n",
    "    matched_outcome = []\n",
    "    \n",
    "    for i in range(length):\n",
    "#         print(check_data.values[i])\n",
    "        c=check(check_data.values[i],mytree)\n",
    "        predicted_outcome.append(c)\n",
    "        actual_outcome.append(check_data.values[i][len_val-1])\n",
    "#         print ('c')\n",
    "#         print(c)\n",
    "        if(c==check_data.values[i][len_val-1]):\n",
    "            \n",
    "            matched_outcome.append(1)\n",
    "        else:\n",
    "            \n",
    "            matched_outcome.append(0)\n",
    "   \n",
    "    return predicted_outcome,actual_outcome\n",
    "            \n",
    "        \n",
    "\n",
    "\n",
    "\n",
    "\n",
    "# build_tree(train_data,7,0,trw)\n",
    "\n",
    "\n",
    "\n",
    "\n",
    "\n",
    "    \n"
   ]
  },
  {
   "cell_type": "code",
   "execution_count": 17,
   "metadata": {},
   "outputs": [],
   "source": [
    "def testing(dataset,mytree):\n",
    "    check_data = dataset[['satisfaction_level','last_evaluation','number_project','average_montly_hours','time_spend_company','Work_accident','promotion_last_5years','sales','salary']]\n",
    "    #check_data = dataset[['Work_accident' ,'promotion_last_5years','sales','salary','left']]\n",
    "    length = len(check_data)\n",
    "    len_val = len(check_data.values[0])\n",
    "    predicted_outcome = []\n",
    "   \n",
    "    \n",
    "    for i in range(length):\n",
    "#         print(check_data.values[i])\n",
    "        c=check(check_data.values[i],mytree)\n",
    "        predicted_outcome.append(c)\n",
    "\n",
    "    return predicted_outcome\n",
    "            \n",
    "        "
   ]
  },
  {
   "cell_type": "markdown",
   "metadata": {},
   "source": [
    "#   PART 2\n",
    "\n"
   ]
  },
  {
   "cell_type": "code",
   "execution_count": 18,
   "metadata": {},
   "outputs": [
    {
     "ename": "NameError",
     "evalue": "name 'test_data' is not defined",
     "output_type": "error",
     "traceback": [
      "\u001b[0;31m---------------------------------------------------------------------------\u001b[0m",
      "\u001b[0;31mNameError\u001b[0m                                 Traceback (most recent call last)",
      "\u001b[0;32m<ipython-input-18-35e2a784959b>\u001b[0m in \u001b[0;36m<module>\u001b[0;34m()\u001b[0m\n\u001b[0;32m----> 1\u001b[0;31m \u001b[0mpredicted_out\u001b[0m\u001b[0;34m,\u001b[0m\u001b[0mactual_out\u001b[0m \u001b[0;34m=\u001b[0m \u001b[0mevaluate\u001b[0m\u001b[0;34m(\u001b[0m\u001b[0mtest_data\u001b[0m\u001b[0;34m,\u001b[0m\u001b[0mtrw\u001b[0m\u001b[0;34m)\u001b[0m\u001b[0;34m\u001b[0m\u001b[0;34m\u001b[0m\u001b[0m\n\u001b[0m\u001b[1;32m      2\u001b[0m \u001b[0mprint\u001b[0m\u001b[0;34m(\u001b[0m\u001b[0;34m'Accuracy :'\u001b[0m\u001b[0;34m,\u001b[0m\u001b[0maccuracy\u001b[0m\u001b[0;34m(\u001b[0m\u001b[0mpredicted_out\u001b[0m\u001b[0;34m,\u001b[0m\u001b[0mactual_out\u001b[0m\u001b[0;34m)\u001b[0m\u001b[0;34m)\u001b[0m\u001b[0;34m\u001b[0m\u001b[0;34m\u001b[0m\u001b[0m\n\u001b[1;32m      3\u001b[0m \u001b[0mprint\u001b[0m\u001b[0;34m(\u001b[0m\u001b[0;34m'F1 Score :'\u001b[0m\u001b[0;34m,\u001b[0m\u001b[0mf1_score\u001b[0m\u001b[0;34m(\u001b[0m\u001b[0mpredicted_out\u001b[0m\u001b[0;34m,\u001b[0m\u001b[0mactual_out\u001b[0m\u001b[0;34m)\u001b[0m\u001b[0;34m)\u001b[0m\u001b[0;34m\u001b[0m\u001b[0;34m\u001b[0m\u001b[0m\n\u001b[1;32m      4\u001b[0m \u001b[0mprint\u001b[0m\u001b[0;34m(\u001b[0m\u001b[0;34m'Recall :'\u001b[0m\u001b[0;34m,\u001b[0m\u001b[0mrecall\u001b[0m\u001b[0;34m(\u001b[0m\u001b[0mpredicted_out\u001b[0m\u001b[0;34m,\u001b[0m\u001b[0mactual_out\u001b[0m\u001b[0;34m)\u001b[0m\u001b[0;34m)\u001b[0m\u001b[0;34m\u001b[0m\u001b[0;34m\u001b[0m\u001b[0m\n\u001b[1;32m      5\u001b[0m \u001b[0mprint\u001b[0m\u001b[0;34m(\u001b[0m\u001b[0;34m'Precision :'\u001b[0m\u001b[0;34m,\u001b[0m\u001b[0mprecision\u001b[0m\u001b[0;34m(\u001b[0m\u001b[0mpredicted_out\u001b[0m\u001b[0;34m,\u001b[0m\u001b[0mactual_out\u001b[0m\u001b[0;34m)\u001b[0m\u001b[0;34m)\u001b[0m\u001b[0;34m\u001b[0m\u001b[0;34m\u001b[0m\u001b[0m\n",
      "\u001b[0;31mNameError\u001b[0m: name 'test_data' is not defined"
     ]
    }
   ],
   "source": [
    "predicted_out,actual_out = evaluate(test_data,trw)\n",
    "print('Accuracy :',accuracy(predicted_out,actual_out))\n",
    "print('F1 Score :',f1_score(predicted_out,actual_out))\n",
    "print('Recall :',recall(predicted_out,actual_out))\n",
    "print('Precision :',precision(predicted_out,actual_out))"
   ]
  },
  {
   "cell_type": "code",
   "execution_count": 19,
   "metadata": {},
   "outputs": [],
   "source": [
    "## To test the dataset uncomment below lines\n",
    "\n",
    "# test = pd.read_csv('filename', delimiter = ',' )\n",
    "# a = testing(dataset,trw)\n",
    "# a"
   ]
  },
  {
   "cell_type": "markdown",
   "metadata": {},
   "source": [
    "# PART 3"
   ]
  },
  {
   "cell_type": "markdown",
   "metadata": {},
   "source": [
    "Misclassification error, Gini and Entropy are the three most commonly used impurity measures in case of decision trees.\n",
    "\n",
    "Entropy = -∑j  pj log2pj\n",
    "\n",
    "Gini = 1 - Σp2j\n",
    "\n",
    "Classification Error = 1 - max pj\n",
    "\n",
    "Gini and entropy are pretty much the same, although the formula for both is different. In general, these two are used interchangeably.\n",
    "The entropy is 0 if all samples of a node belong to the same class, and the entropy is maximal if we have a uniform class distribution. In other words, the entropy of a node (consist of single class) is zero because the probability is 1 and log (1) = 0. Entropy reaches maximum value when all classes in the node have equal probability."
   ]
  },
  {
   "cell_type": "markdown",
   "metadata": {},
   "source": [
    "# PART 4"
   ]
  },
  {
   "cell_type": "markdown",
   "metadata": {},
   "source": [
    "plot of satisfaction level and last evaluation.Plots may change as i have taken train and validation set randomly"
   ]
  },
  {
   "cell_type": "code",
   "execution_count": 137,
   "metadata": {},
   "outputs": [
    {
     "data": {
      "image/png": "[encoded data removed]",
      "text/plain": [
       "<Figure size 432x288 with 1 Axes>"
      ]
     },
     "metadata": {},
     "output_type": "display_data"
    }
   ],
   "source": [
    "x1,y1 = [], []\n",
    "x2,y2 = [], []\n",
    "\n",
    "for dt in range(len(train_data)):\n",
    "    if(train_data.values[dt][9]==0):\n",
    "        x1.append(train_data.values[dt][0])\n",
    "        y1.append(train_data.values[dt][1])\n",
    "    else:\n",
    "        x2.append(train_data.values[dt][0])\n",
    "        y2.append(train_data.values[dt][1])\n",
    "        \n",
    "plt.scatter(x1, y1, color='r')\n",
    "plt.scatter(x2, y2, color='b')\n",
    "plt.title()\n",
    "plt.show()"
   ]
  },
  {
   "cell_type": "markdown",
   "metadata": {},
   "source": [
    "# PART 6"
   ]
  },
  {
   "cell_type": "markdown",
   "metadata": {},
   "source": [
    "There are several methods used by various decision trees. We can simply ignore the missing values or treating the missing values as another category are not real handling missing values. \n",
    "\n",
    "The real handling approaches to missing data does not use data point with missing values in the evaluation of a split. However, when child nodes are created and trained, those instances are distributed somehow.\n",
    "\n",
    "The following approaches to distribute the missing value instances to child nodes:\n",
    "\n",
    "1. All goes to the node which already has the biggest number of instances (CART, is not the primary rule)\n",
    "distribute to all children, but with diminished weights, proportional with the number of instances from each child node (C45 and others)\n",
    "2. Distribute randomly to only one single child node, eventually according with a categorical distribution (I have seen that in various implementations of C45 and CART for a faster running time)\n",
    "3. Build, sort and use surrogates to distribute instances to a child node, where surrogates are input features which resembles best how the test feature send data instances to left or right child node (CART, if that fails, the majority rule is used)"
   ]
  },
  {
   "cell_type": "code",
   "execution_count": null,
   "metadata": {},
   "outputs": [],
   "source": []
  },
  {
   "cell_type": "code",
   "execution_count": null,
   "metadata": {},
   "outputs": [],
   "source": []
  },
  {
   "cell_type": "code",
   "execution_count": null,
   "metadata": {},
   "outputs": [],
   "source": []
  },
  {
   "cell_type": "code",
   "execution_count": null,
   "metadata": {},
   "outputs": [],
   "source": []
  },
  {
   "cell_type": "code",
   "execution_count": null,
   "metadata": {},
   "outputs": [],
   "source": []
  },
  {
   "cell_type": "code",
   "execution_count": null,
   "metadata": {},
   "outputs": [],
   "source": []
  },
  {
   "cell_type": "code",
   "execution_count": null,
   "metadata": {},
   "outputs": [],
   "source": []
  },
  {
   "cell_type": "code",
   "execution_count": null,
   "metadata": {},
   "outputs": [],
   "source": []
  },
  {
   "cell_type": "code",
   "execution_count": null,
   "metadata": {},
   "outputs": [],
   "source": []
  },
  {
   "cell_type": "code",
   "execution_count": null,
   "metadata": {},
   "outputs": [],
   "source": []
  },
  {
   "cell_type": "code",
   "execution_count": null,
   "metadata": {},
   "outputs": [],
   "source": []
  },
  {
   "cell_type": "code",
   "execution_count": null,
   "metadata": {},
   "outputs": [],
   "source": []
  },
  {
   "cell_type": "code",
   "execution_count": null,
   "metadata": {},
   "outputs": [],
   "source": []
  },
  {
   "cell_type": "code",
   "execution_count": null,
   "metadata": {},
   "outputs": [],
   "source": []
  },
  {
   "cell_type": "code",
   "execution_count": null,
   "metadata": {},
   "outputs": [],
   "source": []
  },
  {
   "cell_type": "code",
   "execution_count": null,
   "metadata": {},
   "outputs": [],
   "source": []
  },
  {
   "cell_type": "code",
   "execution_count": null,
   "metadata": {},
   "outputs": [],
   "source": []
  },
  {
   "cell_type": "code",
   "execution_count": null,
   "metadata": {},
   "outputs": [],
   "source": []
  },
  {
   "cell_type": "code",
   "execution_count": null,
   "metadata": {},
   "outputs": [],
   "source": []
  },
  {
   "cell_type": "code",
   "execution_count": null,
   "metadata": {},
   "outputs": [],
   "source": []
  },
  {
   "cell_type": "code",
   "execution_count": null,
   "metadata": {},
   "outputs": [],
   "source": []
  },
  {
   "cell_type": "code",
   "execution_count": null,
   "metadata": {},
   "outputs": [],
   "source": []
  },
  {
   "cell_type": "code",
   "execution_count": null,
   "metadata": {},
   "outputs": [],
   "source": []
  }
 ],
 "metadata": {
  "kernelspec": {
   "display_name": "Python 3",
   "language": "python",
   "name": "python3"
  },
  "language_info": {
   "codemirror_mode": {
    "name": "ipython",
    "version": 3
   },
   "file_extension": ".py",
   "mimetype": "text/x-python",
   "name": "python",
   "nbconvert_exporter": "python",
   "pygments_lexer": "ipython3",
   "version": "3.6.7"
  }
 },
 "nbformat": 4,
 "nbformat_minor": 2
}
